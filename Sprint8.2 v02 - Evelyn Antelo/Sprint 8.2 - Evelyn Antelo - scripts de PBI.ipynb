{
 "cells": [
  {
   "cell_type": "markdown",
   "metadata": {},
   "source": [
    "# Sprint 8.2 - Power BI amb Python - Nivell 1\n",
    "\n",
    "Els 7 exercicis del nivell 1 de la tasca 01"
   ]
  },
  {
   "cell_type": "markdown",
   "metadata": {},
   "source": [
    "Antes de empezar a crear los scripts, en Power BI se hacen las transformaciones necesarias a las tablas (el cálculo de la edad en la tabla _users_ y la transformación del precio a formato float en la tabla _products_) y se crean las relaciones del modelo."
   ]
  },
  {
   "cell_type": "markdown",
   "metadata": {},
   "source": [
    "### Ex 1 - Una variable numèrica."
   ]
  },
  {
   "cell_type": "code",
   "execution_count": null,
   "metadata": {},
   "outputs": [],
   "source": [
    "# The following code to create a dataframe and remove duplicated rows is always executed and acts as a preamble for your script: \n",
    "\n",
    "# dataset = pandas.DataFrame(undefined)\n",
    "# dataset = dataset.drop_duplicates()\n",
    "\n",
    "# Paste or type your script code here:\n",
    "import pandas as pd\n",
    "import numpy as np\n",
    "import matplotlib.pyplot as plt\n",
    "import seaborn as sns\n",
    "\n",
    "df = dataset\n",
    "\n",
    "transactionsND = df[df.declined == 0]\n",
    "\n",
    "sns.histplot(transactionsND, x='amount', bins=10, color='purple')\n",
    "\n",
    "plt.title('Monto de transacciones (no rechazadas)', fontsize=12)\n",
    "plt.xlabel('Monto (€)')\n",
    "plt.ylabel('Recuento')\n",
    "plt.tight_layout(pad=0, w_pad=0, h_pad=0)\n",
    "\n",
    "plt.show()"
   ]
  },
  {
   "cell_type": "markdown",
   "metadata": {},
   "source": [
    "### Ex 2 - Dues variables numèriques."
   ]
  },
  {
   "cell_type": "code",
   "execution_count": null,
   "metadata": {},
   "outputs": [],
   "source": [
    "# The following code to create a dataframe and remove duplicated rows is always executed and acts as a preamble for your script: \n",
    "\n",
    "# dataset = pandas.DataFrame(age, amount)\n",
    "# dataset = dataset.drop_duplicates()\n",
    "\n",
    "# Paste or type your script code here:\n",
    "\n",
    "import pandas as pd\n",
    "import numpy as np\n",
    "import matplotlib.pyplot as plt\n",
    "import seaborn as sns\n",
    "\n",
    "df = dataset\n",
    "\n",
    "df = df.groupby('age').sum('amount')\n",
    "\n",
    "sns.relplot(data=df, x='age', y='amount', color='purple')\n",
    "\n",
    "plt.title('Monto gastado por edad de usuarios', fontsize=17)\n",
    "plt.xlabel('Edad')\n",
    "plt.ylabel('Monto (€)')\n",
    "plt.tight_layout(pad=0, w_pad=0, h_pad=0)\n",
    "\n",
    "plt.show()"
   ]
  },
  {
   "cell_type": "markdown",
   "metadata": {},
   "source": [
    "### Ex 3 - Una variable categòrica."
   ]
  },
  {
   "cell_type": "code",
   "execution_count": null,
   "metadata": {},
   "outputs": [],
   "source": [
    "# The following code to create a dataframe and remove duplicated rows is always executed and acts as a preamble for your script: \n",
    "\n",
    "# dataset = pandas.DataFrame(declined)\n",
    "# dataset = dataset.drop_duplicates()\n",
    "\n",
    "# Paste or type your script code here:\n",
    "import pandas as pd\n",
    "import numpy as np\n",
    "import matplotlib.pyplot as plt\n",
    "import seaborn as sns\n",
    "\n",
    "df = dataset\n",
    "\n",
    "declined_count = df['declined'].value_counts()\n",
    "labels = ['aceptadas', 'rechazadas']\n",
    "sizes = declined_count.values\n",
    "\n",
    "plt.figure(figsize=(5, 4))\n",
    "plt.pie(sizes, labels=labels, autopct='%1.1f%%', startangle=180, colors=['indigo', 'violet'])\n",
    "plt.title('Porcentaje de transacciones\\n aceptadas/rechazadas', fontsize=17)\n",
    "plt.axis('equal')\n",
    "\n",
    "centre_circle = plt.Circle((0,0),0.40,fc='white')\n",
    "plt.gca().add_artist(centre_circle)\n",
    "\n",
    "plt.tight_layout(pad=0, w_pad=0, h_pad=0)\n",
    "plt.show()"
   ]
  },
  {
   "cell_type": "markdown",
   "metadata": {},
   "source": [
    "### Ex 4 - Una variable categòrica i una numèrica."
   ]
  },
  {
   "cell_type": "code",
   "execution_count": null,
   "metadata": {},
   "outputs": [],
   "source": [
    "# The following code to create a dataframe and remove duplicated rows is always executed and acts as a preamble for your script: \n",
    "\n",
    "# dataset = pandas.DataFrame(id, declined, country, amount)\n",
    "# dataset = dataset.drop_duplicates()\n",
    "\n",
    "# Paste or type your script code here:\n",
    "import pandas as pd\n",
    "import numpy as np\n",
    "import matplotlib.pyplot as plt\n",
    "import seaborn as sns\n",
    "\n",
    "df = dataset\n",
    "\n",
    "df = df[df['declined'] == 0]\n",
    "\n",
    "countries = sorted(df['country'].unique())\n",
    "\n",
    "ax = sns.catplot(data=df, x='country', y='amount', kind='box', color='violet', order= countries)\n",
    "\n",
    "ax.tick_params(axis='x', rotation=90)\n",
    "\n",
    "plt.title('Ventas por países de las empresas', fontsize=17)\n",
    "plt.xlabel(None)\n",
    "plt.ylabel('Monto (€)')\n",
    "plt.tight_layout(pad=0, w_pad=0, h_pad=0)\n",
    "\n",
    "plt.show()"
   ]
  },
  {
   "cell_type": "markdown",
   "metadata": {},
   "source": [
    "### Ex 5 - Dues variables categòriques."
   ]
  },
  {
   "cell_type": "code",
   "execution_count": null,
   "metadata": {},
   "outputs": [],
   "source": [
    "# The following code to create a dataframe and remove duplicated rows is always executed and acts as a preamble for your script: \n",
    "\n",
    "# dataset = pandas.DataFrame(id, id.1, country)\n",
    "# dataset = dataset.drop_duplicates()\n",
    "\n",
    "# Paste or type your script code here:\n",
    "import pandas as pd\n",
    "import numpy as np\n",
    "import matplotlib.pyplot as plt\n",
    "import seaborn as sns\n",
    "\n",
    "df = dataset\n",
    "\n",
    "countries = sorted(list(df['country']))\n",
    "\n",
    "top3products = list(df['id.1'].value_counts().head(3).index)\n",
    "\n",
    "df_top3prod = df[df['id.1'].isin(top3products)]\n",
    "\n",
    "plt.figure(figsize = (16,8))\n",
    "ax = sns.countplot(data= df_top3prod, x = 'country', hue = 'product_name', palette = 'magma', order = countries)\n",
    "\n",
    "plt.title('Distribución por países\\n de los tres productos más comprados', fontsize = 17)\n",
    "plt.xlabel(None)\n",
    "plt.legend(title='Producto')\n",
    "ax.tick_params(axis='x', rotation=45)\n",
    "plt.tight_layout\n",
    "\n",
    "\n",
    "plt.savefig('output.png')"
   ]
  },
  {
   "cell_type": "markdown",
   "metadata": {},
   "source": [
    "### Ex 6 - Tres variables."
   ]
  },
  {
   "cell_type": "code",
   "execution_count": null,
   "metadata": {},
   "outputs": [],
   "source": [
    "# The following code to create a dataframe and remove duplicated rows is always executed and acts as a preamble for your script: \n",
    "\n",
    "# dataset = pandas.DataFrame(country, amount, declined)\n",
    "# dataset = dataset.drop_duplicates()\n",
    "\n",
    "# Paste or type your script code here:\n",
    "import pandas as pd\n",
    "import numpy as np\n",
    "import matplotlib.pyplot as plt\n",
    "import seaborn as sns\n",
    "\n",
    "df = dataset\n",
    "\n",
    "df = df.groupby('country').sum('amount')\n",
    "\n",
    "df['declined'] = pd.cut(df['declined'], [0, 5, 10, 50], labels=['0-5', '6-10', '+10'])\n",
    "\n",
    "sns.scatterplot(data=df, x='amount', y='country', palette='magma', hue='declined', size = 'declined', sizes=(100,20))\n",
    "\n",
    "plt.title('Monto de transacciones por país\\n y conteo de transacciones rechazadas', fontsize = 12)\n",
    "plt.xlabel('Monto (€)')\n",
    "plt.ylabel(None)\n",
    "plt.legend(bbox_to_anchor=(1.3, 0.4), loc='center right', title= 'Rechazadas')\n",
    "plt.tight_layout(pad=0, w_pad=0, h_pad=0)\n",
    "\n",
    "plt.show()"
   ]
  },
  {
   "cell_type": "markdown",
   "metadata": {},
   "source": [
    "### Ex 7 - Graficar un Pairplot."
   ]
  },
  {
   "cell_type": "code",
   "execution_count": null,
   "metadata": {},
   "outputs": [],
   "source": [
    "# The following code to create a dataframe and remove duplicated rows is always executed and acts as a preamble for your script: \n",
    "\n",
    "# dataset = pandas.DataFrame(price, weight, age, amount)\n",
    "# dataset = dataset.drop_duplicates()\n",
    "\n",
    "# Paste or type your script code here:\n",
    "import pandas as pd\n",
    "import numpy as np\n",
    "import matplotlib.pyplot as plt\n",
    "import seaborn as sns\n",
    "\n",
    "df = dataset\n",
    "\n",
    "df = df[df['declined'] == 0]\n",
    "df = df.drop(columns=['declined'])\n",
    "\n",
    "sns.pairplot(df, kind='scatter', hue='country', palette='magma')\n",
    "\n",
    "plt.title('Pairplot de la BBDD \"transactionsnew\"', x=-0.8, y=4.18, fontsize = 15)\n",
    "\n",
    "plt.tight_layout(pad=0, w_pad=0, h_pad=0)\n",
    "\n",
    "plt.show()"
   ]
  }
 ],
 "metadata": {
  "kernelspec": {
   "display_name": "Python 3",
   "language": "python",
   "name": "python3"
  },
  "language_info": {
   "codemirror_mode": {
    "name": "ipython",
    "version": 3
   },
   "file_extension": ".py",
   "mimetype": "text/x-python",
   "name": "python",
   "nbconvert_exporter": "python",
   "pygments_lexer": "ipython3",
   "version": "3.13.1"
  }
 },
 "nbformat": 4,
 "nbformat_minor": 2
}
