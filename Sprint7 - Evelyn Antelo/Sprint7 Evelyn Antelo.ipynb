{
 "cells": [
  {
   "cell_type": "markdown",
   "metadata": {},
   "source": [
    "# Nivell 1\n",
    "## Exercici 1\n",
    "Calculadora de l'índex de massa corporal\n",
    "\n",
    "Escriu una funció que calculi l'IMC ingressat per l'usuari/ària, és a dir, qui ho executi haurà d'ingressar aquestes dades.\n",
    "\n",
    "Fórmula: peso(kg)/(altura(m))**2\n",
    "\n",
    "La funció ha de classificar el resultat en les seves respectives categories\n",
    "\n",
    "- Bajo peso: menos de 18,5.\n",
    "- Peso normal: 18,5-24,9.\n",
    "- Sobrepeso: 25-29,9.\n",
    "- Obesidad: más de 30"
   ]
  },
  {
   "cell_type": "code",
   "execution_count": 7,
   "metadata": {},
   "outputs": [
    {
     "name": "stdout",
     "output_type": "stream",
     "text": [
      "Tu índice de masa corporal es 32.5.\n",
      "Tu peso está en la categoría de obesidad.\n"
     ]
    }
   ],
   "source": [
    "# Se utiliza una función con try/except para asegurar que los datos introducidos sean números y sean positivos\n",
    "def validacion_num(input_usuario):\n",
    "        try:\n",
    "            numero = (float(input(input_usuario)))\n",
    "            if numero <= 0:\n",
    "                print(\"El número debe ser positivo. Vuelva a intentalo.\")\n",
    "                return None\n",
    "            else:\n",
    "                return numero\n",
    "        except ValueError:\n",
    "            print(\"Error. Debe ingresar un número. Vuelva a comenzar.\")\n",
    "            return None\n",
    "\n",
    "\n",
    "def caluladora_imc():\n",
    "\n",
    "    # Se crean dos variables en la que se almacenan los datos solicitados al usuario: peso y altura\n",
    "    # Si no se cumple la validación del número, se interrumpe y reinicia el programa\n",
    "    peso = validacion_num('Ingresa tu peso en kilogramos: ')\n",
    "    if peso == None:\n",
    "        return caluladora_imc()\n",
    "    altura = validacion_num('Ingresa tu altura en centímetros: ')\n",
    "    if altura == None:\n",
    "        return caluladora_imc()\n",
    "        \n",
    "    # Se crea la variable que realiza la operación y retorna el cálculo del IMC\n",
    "    imc = peso/(altura/100)**2\n",
    "    print(f'Tu índice de masa corporal es {round(imc, 1)}.')\n",
    "        \n",
    "    # Se clasifica el resultado\n",
    "    if imc < 18.5:\n",
    "        categoria = \"peso bajo\"\n",
    "    elif imc < 25:\n",
    "        categoria = \"peso normal\"\n",
    "    elif imc < 30:\n",
    "        categoria = \"sobrepeso\"\n",
    "    else:\n",
    "        categoria = \"obesidad\"\n",
    "        \n",
    "    print(f'Tu peso está en la categoría de {categoria}.')\n",
    "\n",
    "caluladora_imc()\n"
   ]
  },
  {
   "cell_type": "markdown",
   "metadata": {},
   "source": [
    "# Nivell 1\n",
    "## Exercici 2\n",
    "Convertidor de temperatures.\n",
    "Existeixen diverses unitats de temperatura utilitzades en diferents contextos i regions. Les més comunes són Celsius (°C), Fahrenheit (°F) i Kelvin (K). També existeixen altres unitats com Rankine (°Ra) i Réaumur (°Re).\n",
    "\n",
    "Selecciona almenys 2 conversors, de tal manera que en introduir una temperatura retorni, com a mínim, dues conversions."
   ]
  },
  {
   "cell_type": "code",
   "execution_count": 8,
   "metadata": {},
   "outputs": [
    {
     "name": "stdout",
     "output_type": "stream",
     "text": [
      "100.0 grados Celsius equivalen a 212.0 grados Fahrenheit y 373.15 grados Kelvin.\n"
     ]
    }
   ],
   "source": [
    "# Se verifica que el input sea un número y si no, se para el proceso y reinicia el programa\n",
    "def validacion_num2(input_usuario2):\n",
    "    try:\n",
    "        return float(input(input_usuario2))\n",
    "    except ValueError:\n",
    "        print(\"Error. Debe ingresar un número. Vuelva a comenzar.\")\n",
    "        return None\n",
    "\n",
    "\n",
    "def convertidor_temp():\n",
    "    # Se pide el número al usuario\n",
    "    num = validacion_num2(f'Ingresa el número que quieres convertir: ')\n",
    "    if num == None:\n",
    "        return convertidor_temp()\n",
    "\n",
    "    # Se pide elegir la unidad\n",
    "    unidad = input(f'Ingresa la unidad desde la cual convertir: K, F o C (Kelvin, Fahrenheit o Celsius)').lower()\n",
    "    \n",
    "    # Se clasifica según la unidad y se realizan los cálculos\n",
    "    if unidad == 'k':\n",
    "        cel = num - 273.15\n",
    "        far = round(cel * (9/5) + 32, 2)\n",
    "        print(f'{num} grados Kelvin equivalen a {far} grados Fahrenheit y {cel} grados Celsius.')\n",
    "    \n",
    "    elif unidad == 'f':\n",
    "        cel = round((num - 32) * (5/9), 2)\n",
    "        kel = cel + 273.15\n",
    "        print(f'{num} grados Fahrenheit equivalen a {cel} grados Celsius y {kel} grados Kelvin.')\n",
    "    \n",
    "    elif unidad == 'c':\n",
    "        far = round(num * (9/5) + 32, 2)\n",
    "        kel = num + 273.15\n",
    "        print(f'{num} grados Celsius equivalen a {far} grados Fahrenheit y {kel} grados Kelvin.')\n",
    "    \n",
    "    # Si la letra seleccionada no coincide con una de las tres unidades, da un mensaje de error\n",
    "    else:\n",
    "        print('Unidad incorrecta, vuelve a intentarlo.')\n",
    "        return convertidor_temp()\n",
    "\n",
    "\n",
    "convertidor_temp()"
   ]
  },
  {
   "cell_type": "markdown",
   "metadata": {},
   "source": [
    "# Nivell 1\n",
    "## Exercici 3\n",
    "Comptador de paraules d'un text.\n",
    "\n",
    "Escriu una funció que donat un text, mostri les vegades que apareix cada paraula."
   ]
  },
  {
   "cell_type": "code",
   "execution_count": 9,
   "metadata": {},
   "outputs": [
    {
     "data": {
      "text/plain": [
       "{'camino': 5,\n",
       " 'se': 4,\n",
       " 'caminante': 3,\n",
       " 'al': 3,\n",
       " 'la': 3,\n",
       " 'el': 2,\n",
       " 'y': 2,\n",
       " 'no': 2,\n",
       " 'hay': 2,\n",
       " 'hace': 2,\n",
       " 'andar': 2,\n",
       " 'volver': 2,\n",
       " 'son': 1,\n",
       " 'tus': 1,\n",
       " 'huellas': 1,\n",
       " 'nada': 1,\n",
       " 'más': 1,\n",
       " 'vista': 1,\n",
       " 'atrás': 1,\n",
       " 've': 1,\n",
       " 'senda': 1,\n",
       " 'que': 1,\n",
       " 'nunca': 1,\n",
       " 'ha': 1,\n",
       " 'de': 1,\n",
       " 'a': 1,\n",
       " 'pisar': 1,\n",
       " 'sino': 1,\n",
       " 'estelas': 1,\n",
       " 'en': 1,\n",
       " 'mar': 1}"
      ]
     },
     "execution_count": 9,
     "metadata": {},
     "output_type": "execute_result"
    }
   ],
   "source": [
    "# Se importa el módulo string para luego usar la función punctuation\n",
    "import string \n",
    "\n",
    "# Función para eliminar la puntuación, separar el texto en palabras y convertir a lower case\n",
    "def text_cleaner(text):    \n",
    "    return text.translate(str.maketrans('', '', string.punctuation + '¡')).lower().split()\n",
    "\n",
    "# Función que cuenta las palabras en un for loop\n",
    "def counter_loop(text):\n",
    "    word_dict = {}\n",
    "    for i in text_cleaner(text):\n",
    "        if i in word_dict:\n",
    "            word_dict[i] += 1\n",
    "        else:\n",
    "            word_dict[i] = 1\n",
    "    return word_dict\n",
    "\n",
    "# Función que ordena las  palabras por cantidad de veces repetida para facilitar la lectura del resultado\n",
    "def sort(unsorted):\n",
    "    return dict(sorted(unsorted.items(), key = lambda x:x[1], reverse = True))\n",
    "\n",
    "# Función principal\n",
    "def word_counter(text):\n",
    "    return sort(counter_loop(text))\n",
    "\n",
    "\n",
    "word_counter('Caminante, son tus huellas el camino y nada más; Caminante, no hay camino, se hace camino al andar. Al andar se hace el camino, y al volver la vista atrás se ve la senda que nunca se ha de volver a pisar. Caminante no hay camino sino estelas en la mar.')"
   ]
  },
  {
   "cell_type": "markdown",
   "metadata": {},
   "source": [
    "# Nivell 1\n",
    "## Exercici 4\n",
    "__Diccionari invers.__\n",
    "\n",
    "Resulta que el client té una enquesta molt antiga que s'emmagatzema en un diccionari i els resultats els necessita al revés, és a dir, intercanviats les claus i els valors. Els valors i claus en el diccionari original són únics; si aquest no és el cas, la funció hauria d'imprimir un missatge d'advertiment."
   ]
  },
  {
   "cell_type": "code",
   "execution_count": 10,
   "metadata": {},
   "outputs": [
    {
     "data": {
      "text/plain": [
       "{5: 'camino', 4: 'se', 3: 'caminante'}"
      ]
     },
     "execution_count": 10,
     "metadata": {},
     "output_type": "execute_result"
    }
   ],
   "source": [
    "def reverse_dict(encuesta):\n",
    "    # Se crea un diccionario para almacenar el resultado\n",
    "    reverse = {}\n",
    "\n",
    "    # Con un for loop se invierten las claves y los valores de cada item del diccionario\n",
    "    # y si el valor es único se agrega al diccionario reverse\n",
    "    for key, value in encuesta.items():\n",
    "        if value not in reverse:\n",
    "            reverse[value] = key\n",
    "        # si el valor ya existe en reverse, se imprime un mensaje de advertencia    \n",
    "        else:\n",
    "            return \"Error. Existen valores repetidos en el diccionario.\"        \n",
    "    return reverse\n",
    "\n",
    "# Pruebas:\n",
    "# reverse_dict({'camino': 5, 'se': 4, 'caminante': 3, 'al': 3})\n",
    "reverse_dict({'camino': 5, 'se': 4, 'caminante': 3})\n"
   ]
  },
  {
   "cell_type": "markdown",
   "metadata": {},
   "source": [
    "# Nivell 2\n",
    "## Exercici 1\n",
    "__Diccionari invers amb duplicats__\n",
    "\n",
    "Continuant amb l'exercici 4 del nivell 1: al client es va oblidar de comentar un detall i resulta que els valors en el diccionari original poden duplicar-se i més, per la qual cosa les claus intercanviades poden tenir duplicats. En aquest cas, en l'exercici anterior imprimies un missatge d'advertiment, ara, els valors del diccionari resultant hauran d'emmagatzemar-se com una llista. Tingues en compte que si és un valor únic no ha de ser una llista."
   ]
  },
  {
   "cell_type": "code",
   "execution_count": 11,
   "metadata": {},
   "outputs": [
    {
     "data": {
      "text/plain": [
       "{5: 'camino', 4: 'se', 3: ['caminante', 'al']}"
      ]
     },
     "execution_count": 11,
     "metadata": {},
     "output_type": "execute_result"
    }
   ],
   "source": [
    "def reverse_dict_plus(encuesta):\n",
    "    # Se crean un diccionario y una lista para almacenar los resultados\n",
    "    reverse = {}\n",
    "\n",
    "    # Con un for loop se invierten las claves y los valores de cada item del diccionario\n",
    "    # Y si el valor es único se agrega al diccionario reverse\n",
    "    for key, value in encuesta.items():\n",
    "        if value not in reverse:\n",
    "            reverse[value] = key  \n",
    "        # Si el valor ya existe en reverse, se agrega a una lista\n",
    "        else:\n",
    "            reverse[value] = [reverse[value], key]\n",
    "    return reverse\n",
    "\n",
    "# Pruebas:\n",
    "reverse_dict_plus({'camino': 5, 'se': 4, 'caminante': 3, 'al': 3})\n",
    "# reverse_dict_plus({'camino': 5, 'se': 4, 'caminante': 3})"
   ]
  },
  {
   "cell_type": "markdown",
   "metadata": {},
   "source": [
    "# Nivell 2\n",
    "## Exercici 2\n",
    "__Conversió de tipus de dades__\n",
    "\n",
    "El client rep una llista de dades i necessita generar dues llistes, la primera on estaran tots els elements que es van poder convertir en flotants i l'altra on estan els elements que no es van poder convertir. Exemple de la llista que rep el client: [ '1.3', 'one' , '1e10' , 'seven', '3-1/2', ('2',1,1.4,'not-a-number'), [1,2,'3','3.4']]"
   ]
  },
  {
   "cell_type": "code",
   "execution_count": 12,
   "metadata": {},
   "outputs": [
    {
     "name": "stdout",
     "output_type": "stream",
     "text": [
      "Datos convertidos a float: [1.3, 10000000000.0, 2.0, 1.0, 1.4, 1.0, 2.0, 3.0, 3.4] \n",
      "Datos que no pueden convertirse a float: ['one', 'seven', '3-1/2', 'not-a-number']\n"
     ]
    }
   ],
   "source": [
    "def convert2float(datalist):\n",
    "    # Listas donde se almacenarán los resultados\n",
    "    datafloat = []\n",
    "    dataNOfloat = []\n",
    "\n",
    "    for i in datalist:\n",
    "        # Se usa una sentencia try-except para convertir los datos a float o detectar los que dan error    \n",
    "        try:\n",
    "            i = float(i)\n",
    "            datafloat.append(i)\n",
    "        # Los que tienen ValueError se almacenan en una lista y se continúa la evaluación    \n",
    "        except ValueError:\n",
    "            dataNOfloat.append(i)\n",
    "        # Cuando el error es TypeError porque se trata de una tuple o lista dentro de la lista original, se vuelve a clasificar con try-except\n",
    "        except TypeError:\n",
    "            # Se convierte el dato en lista\n",
    "            i = list(i)\n",
    "            # Se itera en la lista i y se vuelve a clasificar según se pueden convertir a float o si dan error\n",
    "            for x in i:\n",
    "                try:\n",
    "                    x = float(x)\n",
    "                    datafloat.append(x)\n",
    "                except ValueError:\n",
    "                    dataNOfloat.append(x)\n",
    "\n",
    "    print(\"Datos convertidos a float:\", datafloat,\"\\nDatos que no pueden convertirse a float:\",dataNOfloat)\n",
    "\n",
    "\n",
    "convert2float([ '1.3', 'one' , '1e10' , 'seven', '3-1/2', ('2',1,1.4,'not-a-number'), [1,2,'3','3.4']])\n"
   ]
  },
  {
   "cell_type": "markdown",
   "metadata": {},
   "source": [
    "# Nivell 3\n",
    "## Exercici 1\n",
    "__Comptador i endreçador de paraules d'un text.__\n",
    "\n",
    "El client va quedar content amb el comptador de paraules, però ara vol llegir arxius TXT i que calculi la freqüència de cada paraula ordenades dins de les entrades habituals del diccionari segons la lletra amb la qual comencen, és a dir, les claus han d'anar de la A a la Z i dins de la A hem d'anar de la A la Z."
   ]
  },
  {
   "cell_type": "code",
   "execution_count": 13,
   "metadata": {},
   "outputs": [
    {
     "data": {
      "text/plain": [
       "{'a': {'a': 3,\n",
       "  'agua': 1,\n",
       "  'al': 2,\n",
       "  'alba': 4,\n",
       "  'alcobas': 1,\n",
       "  'alimenta': 1,\n",
       "  'alma': 1,\n",
       "  'amarga': 1,\n",
       "  'azucena': 1},\n",
       " 'b': {'baco': 1,\n",
       "  'banquete': 1,\n",
       "  'bebe': 1,\n",
       "  'blanca': 3,\n",
       "  'boca': 1,\n",
       "  'bosques': 1,\n",
       "  'buen': 1},\n",
       " 'c': {'cabañas': 1,\n",
       "  'carnes': 2,\n",
       "  'casta': 3,\n",
       "  'cerrada': 1,\n",
       "  'con': 4,\n",
       "  'conservas': 1,\n",
       "  'copas': 1,\n",
       "  'corola': 1,\n",
       "  'corriste': 1,\n",
       "  'cuando': 2,\n",
       "  'cubierto': 1,\n",
       "  'cuerpo': 1,\n",
       "  'cuáles': 1},\n",
       " 'd': {'de': 8, 'dejaste': 1, 'del': 1, 'diga': 1, 'dios': 2, 'duerme': 1},\n",
       " 'e': {'el': 4,\n",
       "  'ellas': 1,\n",
       "  'en': 4,\n",
       "  'engaño': 1,\n",
       "  'enredada': 1,\n",
       "  'entonces': 1,\n",
       "  'escarcha': 1,\n",
       "  'espumas': 1,\n",
       "  'esqueleto': 1,\n",
       "  'estrago': 1},\n",
       " 'f': {'festejando': 1, 'filtrado': 1, 'frutos': 1},\n",
       " 'h': {'habla': 1,\n",
       "  'hacia': 1,\n",
       "  'haya': 1,\n",
       "  'hayas': 1,\n",
       "  'hermana': 1,\n",
       "  'hombre': 1,\n",
       "  'hubiste': 1,\n",
       "  'huye': 1},\n",
       " 'i': {'intacto': 1},\n",
       " 'j': {'jardines': 1},\n",
       " 'l': {'la': 3,\n",
       "  'labios': 1,\n",
       "  'las': 7,\n",
       "  'lo': 2,\n",
       "  'los': 4,\n",
       "  'luna': 1,\n",
       "  'lévate': 1,\n",
       "  'límpiate': 1},\n",
       " 'm': {'mano': 1,\n",
       "  'manos': 1,\n",
       "  'margarita': 1,\n",
       "  'me': 10,\n",
       "  'mi': 1,\n",
       "  'mieles': 1,\n",
       "  'milagros': 1,\n",
       "  'mojada': 1,\n",
       "  'montaña': 1,\n",
       "  'morados': 1},\n",
       " 'n': {'negros': 1, 'ni': 2, 'no': 1, 'nácar': 1, 'nívea': 2},\n",
       " 'p': {'perdone': 2,\n",
       "  'perfume': 1,\n",
       "  'por': 2,\n",
       "  'pretendes': 3,\n",
       "  'preténdeme': 3,\n",
       "  'puesto': 1,\n",
       "  'pájaros': 1,\n",
       "  'pámpanos': 1},\n",
       " 'q': {'que': 6, 'quedó': 1, 'quieres': 6},\n",
       " 'r': {'rayo': 1, 'raíz': 1, 'renueva': 1, 'rocas': 1, 'rojo': 1},\n",
       " 's': {'salitre': 1, 'se': 2, 'sea': 1, 'sean': 1, 'sobre': 2, 'sé': 1},\n",
       " 't': {'te': 3,\n",
       "  'tejidos': 1,\n",
       "  'tenue': 1,\n",
       "  'tierra': 1,\n",
       "  'toca': 1,\n",
       "  'todas': 2,\n",
       "  'todavía': 1,\n",
       "  'tornadas': 1,\n",
       "  'tú': 8},\n",
       " 'u': {'un': 1, 'una': 1},\n",
       " 'v': {'vestido': 1, 'vete': 1, 'vive': 1},\n",
       " 'y': {'y': 5}}"
      ]
     },
     "execution_count": 13,
     "metadata": {},
     "output_type": "execute_result"
    }
   ],
   "source": [
    "# Se importa el módulo string para usar la función punctuation\n",
    "import string \n",
    "\n",
    "# Se importa el archivo de texto\n",
    "text = open(r'C:\\Users\\Evelyn\\Documents\\Evelyn\\Learning\\BCN Activa\\Data Analysis\\Sprint7\\tu_me_quieres_blanca.txt','r', encoding = 'utf-8').read() \n",
    "\n",
    "\n",
    "def count_sort(text):\n",
    "    # Se reutiliza una función previa para limpiar el texto:\n",
    "    words = text_cleaner(text)\n",
    "\n",
    "    # Diccionario para almacenar resultados\n",
    "    words_dict = {}\n",
    " \n",
    "    for word in words:\n",
    "        # Se crea un diccionario externo con las letras iniciales de las palabras\n",
    "        first_letter = word[0]\n",
    "        if first_letter not in words_dict:\n",
    "            words_dict[first_letter] = {}\n",
    "\n",
    "        # Si la palabra ya existe en el diccionario de su letra correspondiente, suma uno        \n",
    "        if word in words_dict[first_letter]:\n",
    "            words_dict[first_letter][word] += 1\n",
    "        else:\n",
    "            words_dict[first_letter][word] = 1\n",
    "\n",
    "    # Se ordena dentro de cada subdiccionario\n",
    "    for letter in words_dict:            \n",
    "        words_dict[letter] = dict(sorted(words_dict[letter].items()))\n",
    "\n",
    "    # Se ordena el diccionario de diccionarios\n",
    "    sorted_dict = dict(sorted(words_dict.items()))\n",
    "\n",
    "    return sorted_dict\n",
    "\n",
    "# Prueba:\n",
    "count_sort(text)\n"
   ]
  }
 ],
 "metadata": {
  "kernelspec": {
   "display_name": "Python 3",
   "language": "python",
   "name": "python3"
  },
  "language_info": {
   "codemirror_mode": {
    "name": "ipython",
    "version": 3
   },
   "file_extension": ".py",
   "mimetype": "text/x-python",
   "name": "python",
   "nbconvert_exporter": "python",
   "pygments_lexer": "ipython3",
   "version": "3.13.0"
  }
 },
 "nbformat": 4,
 "nbformat_minor": 2
}
