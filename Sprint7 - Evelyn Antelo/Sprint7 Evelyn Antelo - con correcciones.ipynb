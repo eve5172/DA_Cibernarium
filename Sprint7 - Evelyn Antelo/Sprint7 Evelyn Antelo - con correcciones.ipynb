{
 "cells": [
  {
   "cell_type": "markdown",
   "metadata": {},
   "source": [
    "# Nivell 1\n",
    "## Exercici 1\n",
    "Calculadora de l'índex de massa corporal\n",
    "\n",
    "Escriu una funció que calculi l'IMC ingressat per l'usuari/ària, és a dir, qui ho executi haurà d'ingressar aquestes dades.\n",
    "\n",
    "Fórmula: peso(kg)/(altura(m))**2\n",
    "\n",
    "La funció ha de classificar el resultat en les seves respectives categories\n",
    "\n",
    "- Bajo peso: menos de 18,5.\n",
    "- Peso normal: 18,5-24,9.\n",
    "- Sobrepeso: 25-29,9.\n",
    "- Obesidad: más de 30"
   ]
  },
  {
   "cell_type": "code",
   "execution_count": null,
   "metadata": {},
   "outputs": [],
   "source": [
    "import string"
   ]
  },
  {
   "cell_type": "code",
   "execution_count": 2,
   "metadata": {},
   "outputs": [
    {
     "name": "stdout",
     "output_type": "stream",
     "text": [
      "Tu índice de masa corporal es 20.2.\n",
      "Tu peso está en la categoría de peso normal.\n"
     ]
    }
   ],
   "source": [
    "def calculo_imc(peso, altura):\n",
    "    imc = peso/(altura/100)**2\n",
    "    return imc\n",
    "\n",
    "def categoria_imc(imc):\n",
    "    if imc < 18.5:\n",
    "        categoria = \"peso bajo\"\n",
    "    elif imc < 25:\n",
    "        categoria = \"peso normal\"\n",
    "    elif imc < 30:\n",
    "        categoria = \"sobrepeso\"\n",
    "    else:\n",
    "        categoria = \"obesidad\"\n",
    "    return categoria\n",
    "\n",
    "\n",
    "def validacion_num(numero):\n",
    "        try:\n",
    "            numero = float(numero)  \n",
    "            if numero <= 0:\n",
    "                print(\"El número debe ser positivo. Vuelve a intentalo.\")\n",
    "                return main()\n",
    "            else:\n",
    "                return numero\n",
    "        except ValueError:\n",
    "            print(\"Error. Debes ingresar un número válido. Usa puntos para los decimales. Vuelve a comenzar.\")\n",
    "            return main()        \n",
    "\n",
    "def main():\n",
    "    peso = input('Ingresa tu peso en kilogramos (usa puntos para los decimales).')\n",
    "    peso = validacion_num(peso)\n",
    "    altura = input('Ingresa tu altura en centímetros (usa puntos para los decimales).')\n",
    "    altura = validacion_num(altura)\n",
    "    imc = calculo_imc(peso,altura)\n",
    "    categoria = categoria_imc(imc)\n",
    "    print(f'Tu índice de masa corporal es {round(imc, 1)}.')\n",
    "    print(f'Tu peso está en la categoría de {categoria}.')\n",
    "\n",
    "\n",
    "if __name__ == \"__main__\":\n",
    "    main()"
   ]
  },
  {
   "cell_type": "markdown",
   "metadata": {},
   "source": [
    "# Nivell 1\n",
    "## Exercici 2\n",
    "Convertidor de temperatures.\n",
    "Existeixen diverses unitats de temperatura utilitzades en diferents contextos i regions. Les més comunes són Celsius (°C), Fahrenheit (°F) i Kelvin (K). També existeixen altres unitats com Rankine (°Ra) i Réaumur (°Re).\n",
    "\n",
    "Selecciona almenys 2 conversors, de tal manera que en introduir una temperatura retorni, com a mínim, dues conversions."
   ]
  },
  {
   "cell_type": "code",
   "execution_count": 3,
   "metadata": {},
   "outputs": [
    {
     "name": "stdout",
     "output_type": "stream",
     "text": [
      "100.0 grados Celsius equivalen a 212.0 grados Fahrenheit y 373.15 grados Kelvin.\n"
     ]
    }
   ],
   "source": [
    "def validacion_num2(input_usuario2):\n",
    "    try:\n",
    "        return float(input(input_usuario2))\n",
    "    except ValueError:\n",
    "        print(\"Error. Debes ingresar un número. Vuelve a comenzar.\")\n",
    "        return None\n",
    "\n",
    "def validacion_unidad():\n",
    "    unidad = input(f'Ingresa la unidad desde la cual convertir: K, F o C (Kelvin, Fahrenheit o Celsius)').lower()\n",
    "    while unidad not in ['k', 'f', 'c']:\n",
    "        unidad = input(f'Error. Ingresa una unidad válida: K, F o C (Kelvin, Fahrenheit o Celsius)').lower()\n",
    "    return unidad\n",
    "\n",
    "def main():\n",
    "    num = validacion_num2(f'Ingresa el número que quieres convertir. Usa punto para los decimales.')\n",
    "    if num == None:\n",
    "        return main()\n",
    "    unidad = validacion_unidad()\n",
    "    if unidad == 'k':\n",
    "        cel = num - 273.15\n",
    "        far = round(cel * (9/5) + 32, 2)\n",
    "        print(f'{num} grados Kelvin equivalen a {far} grados Fahrenheit y {cel} grados Celsius.')\n",
    "    elif unidad == 'f':\n",
    "        cel = round((num - 32) * (5/9), 2)\n",
    "        kel = cel + 273.15\n",
    "        print(f'{num} grados Fahrenheit equivalen a {cel} grados Celsius y {kel} grados Kelvin.')\n",
    "    elif unidad == 'c':\n",
    "        far = round(num * (9/5) + 32, 2)\n",
    "        kel = num + 273.15\n",
    "        print(f'{num} grados Celsius equivalen a {far} grados Fahrenheit y {kel} grados Kelvin.')\n",
    "\n",
    "\n",
    "if __name__ == \"__main__\":\n",
    "    main()"
   ]
  },
  {
   "cell_type": "markdown",
   "metadata": {},
   "source": [
    "# Nivell 1\n",
    "## Exercici 3\n",
    "Comptador de paraules d'un text.\n",
    "\n",
    "Escriu una funció que donat un text, mostri les vegades que apareix cada paraula."
   ]
  },
  {
   "cell_type": "code",
   "execution_count": 4,
   "metadata": {},
   "outputs": [
    {
     "name": "stdout",
     "output_type": "stream",
     "text": [
      "{'camino': 5, 'se': 4, 'caminante': 3, 'al': 3, 'la': 3, 'el': 2, 'y': 2, 'no': 2, 'hay': 2, 'hace': 2, 'andar': 2, 'volver': 2, 'son': 1, 'tus': 1, 'huellas': 1, 'nada': 1, 'más': 1, 'vista': 1, 'atrás': 1, 've': 1, 'senda': 1, 'que': 1, 'nunca': 1, 'ha': 1, 'de': 1, 'a': 1, 'pisar': 1, 'sino': 1, 'estelas': 1, 'en': 1, 'mar': 1}\n"
     ]
    }
   ],
   "source": [
    "# TEXTO DE PRUEBA: \n",
    "# 'Caminante, son tus huellas el camino y nada más; Caminante, no hay camino, se hace camino al andar. Al andar se hace el camino, y al volver la vista atrás se ve la senda que nunca se ha de volver a pisar. Caminante no hay camino sino estelas en la mar.'\n",
    "\n",
    "def user_input():\n",
    "    user_text = input(f'Ingresa el texto.')\n",
    "    return user_text\n",
    "\n",
    "def text_cleaner(text):\n",
    "    return text.translate(str.maketrans('', '', string.punctuation + '¡')).lower().split()\n",
    "\n",
    "def counter_loop():\n",
    "    word_dict = {}\n",
    "    for i in text_cleaner(user_input()):\n",
    "        if i in word_dict:\n",
    "            word_dict[i] += 1\n",
    "        else:\n",
    "            word_dict[i] = 1\n",
    "    return word_dict\n",
    "\n",
    "def sort(unsorted):\n",
    "    return dict(sorted(unsorted.items(), key = lambda x:x[1], reverse = True))\n",
    "\n",
    "def main():\n",
    "    print(sort(counter_loop()))\n",
    "\n",
    "if __name__ == '__main__':\n",
    "    main()"
   ]
  },
  {
   "cell_type": "markdown",
   "metadata": {},
   "source": [
    "# Nivell 1\n",
    "## Exercici 4\n",
    "__Diccionari invers.__\n",
    "\n",
    "Resulta que el client té una enquesta molt antiga que s'emmagatzema en un diccionari i els resultats els necessita al revés, és a dir, intercanviats les claus i els valors. Els valors i claus en el diccionari original són únics; si aquest no és el cas, la funció hauria d'imprimir un missatge d'advertiment."
   ]
  },
  {
   "cell_type": "code",
   "execution_count": 5,
   "metadata": {},
   "outputs": [
    {
     "data": {
      "text/plain": [
       "{5: 'camino', 4: 'se', 3: 'caminante'}"
      ]
     },
     "execution_count": 5,
     "metadata": {},
     "output_type": "execute_result"
    }
   ],
   "source": [
    "def reverse_dict(encuesta):\n",
    "    reverse = {}\n",
    "    for key, value in encuesta.items():\n",
    "        if value not in reverse:\n",
    "            reverse[value] = key\n",
    "        else:\n",
    "            raise ValueError(f'Error. El valor {value} está repetido en el diccionario.')\n",
    "    return reverse\n",
    "\n",
    "# Pruebas:\n",
    "# reverse_dict({'camino': 5, 'se': 4, 'caminante': 3, 'al': 3})\n",
    "reverse_dict({'camino': 5, 'se': 4, 'caminante': 3})\n"
   ]
  },
  {
   "cell_type": "markdown",
   "metadata": {},
   "source": [
    "# Nivell 2\n",
    "## Exercici 1\n",
    "__Diccionari invers amb duplicats__\n",
    "\n",
    "Continuant amb l'exercici 4 del nivell 1: al client es va oblidar de comentar un detall i resulta que els valors en el diccionari original poden duplicar-se i més, per la qual cosa les claus intercanviades poden tenir duplicats. En aquest cas, en l'exercici anterior imprimies un missatge d'advertiment, ara, els valors del diccionari resultant hauran d'emmagatzemar-se com una llista. Tingues en compte que si és un valor únic no ha de ser una llista."
   ]
  },
  {
   "cell_type": "code",
   "execution_count": 6,
   "metadata": {},
   "outputs": [
    {
     "data": {
      "text/plain": [
       "{5: 'camino', 4: 'se', 3: ['caminante', 'al']}"
      ]
     },
     "execution_count": 6,
     "metadata": {},
     "output_type": "execute_result"
    }
   ],
   "source": [
    "def reverse_dict_plus(encuesta):\n",
    "    reverse = {}\n",
    "    for key, value in encuesta.items():\n",
    "        if value not in reverse:\n",
    "            reverse[value] = key  \n",
    "        else:\n",
    "            reverse[value] = [reverse[value], key]\n",
    "    return reverse\n",
    "\n",
    "# Pruebas:\n",
    "reverse_dict_plus({'camino': 5, 'se': 4, 'caminante': 3, 'al': 3})\n",
    "# reverse_dict_plus({'camino': 5, 'se': 4, 'caminante': 3})"
   ]
  },
  {
   "cell_type": "markdown",
   "metadata": {},
   "source": [
    "# Nivell 2\n",
    "## Exercici 2\n",
    "__Conversió de tipus de dades__\n",
    "\n",
    "El client rep una llista de dades i necessita generar dues llistes, la primera on estaran tots els elements que es van poder convertir en flotants i l'altra on estan els elements que no es van poder convertir. Exemple de la llista que rep el client: [ '1.3', 'one' , '1e10' , 'seven', '3-1/2', ('2',1,1.4,'not-a-number'), [1,2,'3','3.4']]"
   ]
  },
  {
   "cell_type": "code",
   "execution_count": 7,
   "metadata": {},
   "outputs": [
    {
     "data": {
      "text/plain": [
       "([1.3, 10000000000.0, 2.0, 1.0, 1.4, 1.0, 2.0, 3.0, 3.4],\n",
       " ['one', 'seven', '3-1/2', 'not-a-number'])"
      ]
     },
     "execution_count": 7,
     "metadata": {},
     "output_type": "execute_result"
    }
   ],
   "source": [
    "def convert2float(datalist):\n",
    "    datafloat = []\n",
    "    dataNOfloat = []\n",
    "    for i in datalist:\n",
    "        try:\n",
    "            i = float(i)\n",
    "            datafloat.append(i)\n",
    "        except ValueError:\n",
    "            dataNOfloat.append(i)\n",
    "        # Si es un TypeError vuelve a comprobar y clasificar según si se puede convertir a float o si da error\n",
    "        except TypeError:\n",
    "            i = list(i)\n",
    "            for x in i:\n",
    "                try:\n",
    "                    x = float(x)\n",
    "                    datafloat.append(x)\n",
    "                except ValueError:\n",
    "                    dataNOfloat.append(x)\n",
    "    return datafloat, dataNOfloat\n",
    "\n",
    "\n",
    "convert2float([ '1.3', 'one' , '1e10' , 'seven', '3-1/2', ('2',1,1.4,'not-a-number'), [1,2,'3','3.4']])\n"
   ]
  },
  {
   "cell_type": "markdown",
   "metadata": {},
   "source": [
    "# Nivell 3\n",
    "## Exercici 1\n",
    "__Comptador i endreçador de paraules d'un text.__\n",
    "\n",
    "El client va quedar content amb el comptador de paraules, però ara vol llegir arxius TXT i que calculi la freqüència de cada paraula ordenades dins de les entrades habituals del diccionari segons la lletra amb la qual comencen, és a dir, les claus han d'anar de la A a la Z i dins de la A hem d'anar de la A la Z."
   ]
  },
  {
   "cell_type": "code",
   "execution_count": 8,
   "metadata": {},
   "outputs": [
    {
     "name": "stdout",
     "output_type": "stream",
     "text": [
      "{'a': {'a': 3, 'agua': 1, 'al': 2, 'alba': 4, 'alcobas': 1, 'alimenta': 1, 'alma': 1, 'amarga': 1, 'azucena': 1}, 'b': {'baco': 1, 'banquete': 1, 'bebe': 1, 'blanca': 3, 'boca': 1, 'bosques': 1, 'buen': 1}, 'c': {'cabañas': 1, 'carnes': 2, 'casta': 3, 'cerrada': 1, 'con': 4, 'conservas': 1, 'copas': 1, 'corola': 1, 'corriste': 1, 'cuando': 2, 'cubierto': 1, 'cuerpo': 1, 'cuáles': 1}, 'd': {'de': 8, 'dejaste': 1, 'del': 1, 'diga': 1, 'dios': 2, 'duerme': 1}, 'e': {'el': 4, 'ellas': 1, 'en': 4, 'engaño': 1, 'enredada': 1, 'entonces': 1, 'escarcha': 1, 'espumas': 1, 'esqueleto': 1, 'estrago': 1}, 'f': {'festejando': 1, 'filtrado': 1, 'frutos': 1}, 'h': {'habla': 1, 'hacia': 1, 'haya': 1, 'hayas': 1, 'hermana': 1, 'hombre': 1, 'hubiste': 1, 'huye': 1}, 'i': {'intacto': 1}, 'j': {'jardines': 1}, 'l': {'la': 3, 'labios': 1, 'las': 7, 'lo': 2, 'los': 4, 'luna': 1, 'lévate': 1, 'límpiate': 1}, 'm': {'mano': 1, 'manos': 1, 'margarita': 1, 'me': 10, 'mi': 1, 'mieles': 1, 'milagros': 1, 'mojada': 1, 'montaña': 1, 'morados': 1}, 'n': {'negros': 1, 'ni': 2, 'no': 1, 'nácar': 1, 'nívea': 2}, 'p': {'perdone': 2, 'perfume': 1, 'por': 2, 'pretendes': 3, 'preténdeme': 3, 'puesto': 1, 'pájaros': 1, 'pámpanos': 1}, 'q': {'que': 6, 'quedó': 1, 'quieres': 6}, 'r': {'rayo': 1, 'raíz': 1, 'renueva': 1, 'rocas': 1, 'rojo': 1}, 's': {'salitre': 1, 'se': 2, 'sea': 1, 'sean': 1, 'sobre': 2, 'sé': 1}, 't': {'te': 3, 'tejidos': 1, 'tenue': 1, 'tierra': 1, 'toca': 1, 'todas': 2, 'todavía': 1, 'tornadas': 1, 'tú': 8}, 'u': {'un': 1, 'una': 1}, 'v': {'vestido': 1, 'vete': 1, 'vive': 1}, 'y': {'y': 5}}\n"
     ]
    }
   ],
   "source": [
    "filepath = 'C:/Users/Evelyn/Documents/Evelyn/Learning/BCN Activa/Data Analysis/Sprint7/tu_me_quieres_blanca.txt'\n",
    "\n",
    "def import_txt():\n",
    "    text = open(filepath,'r', encoding = 'utf-8').read() \n",
    "    return text\n",
    "\n",
    "def main():\n",
    "    words = text_cleaner(import_txt())\n",
    "    words_dict = {}\n",
    "    for word in words:\n",
    "        # Se crea un diccionario externo con las letras iniciales de las palabras\n",
    "        first_letter = word[0]\n",
    "        if first_letter not in words_dict:\n",
    "            words_dict[first_letter] = {}\n",
    "        # Si la palabra ya existe en el diccionario de su letra correspondiente, suma uno        \n",
    "        if word in words_dict[first_letter]:\n",
    "            words_dict[first_letter][word] += 1\n",
    "        else:\n",
    "            words_dict[first_letter][word] = 1\n",
    "    # Se ordena dentro de cada subdiccionario\n",
    "    for letter in words_dict:            \n",
    "        words_dict[letter] = dict(sorted(words_dict[letter].items()))\n",
    "    # Se ordena el diccionario de diccionarios\n",
    "    sorted_dict = dict(sorted(words_dict.items()))\n",
    "    print(sorted_dict)\n",
    "\n",
    "if __name__ == '__main__':\n",
    "    main()"
   ]
  }
 ],
 "metadata": {
  "kernelspec": {
   "display_name": "Python 3",
   "language": "python",
   "name": "python3"
  },
  "language_info": {
   "codemirror_mode": {
    "name": "ipython",
    "version": 3
   },
   "file_extension": ".py",
   "mimetype": "text/x-python",
   "name": "python",
   "nbconvert_exporter": "python",
   "pygments_lexer": "ipython3",
   "version": "3.13.0"
  }
 },
 "nbformat": 4,
 "nbformat_minor": 2
}
